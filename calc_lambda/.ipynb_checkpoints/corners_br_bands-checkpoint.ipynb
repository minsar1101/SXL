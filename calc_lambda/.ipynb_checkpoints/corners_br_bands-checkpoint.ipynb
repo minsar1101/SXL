{
 "cells": [
  {
   "cell_type": "code",
   "execution_count": 1,
   "metadata": {},
   "outputs": [],
   "source": [
    "import pandas as pd\n",
    "import numpy as np\n",
    "import math as m"
   ]
  },
  {
   "cell_type": "code",
   "execution_count": 2,
   "metadata": {},
   "outputs": [],
   "source": [
    "def calc_poisson(Lambda, n_corners):\n",
    "    \"\"\"\n",
    "    Функция, считающая значения пуассоновского распределения\n",
    "    для заданной лямбды и кол-ва событий (угловых)\n",
    "    \"\"\"\n",
    "    return (Lambda**n_corners / m.factorial(n_corners)) * m.exp(-Lambda)"
   ]
  },
  {
   "cell_type": "code",
   "execution_count": 3,
   "metadata": {},
   "outputs": [],
   "source": [
    "def create_poisson_matrix(Lh, La, size):\n",
    "    \"\"\"\n",
    "    Функция, заполняющая матрицу пуассоновского распределения \n",
    "    при условии наступления i событий у Away и j событий у Home\n",
    "    Lh - лямбда home\n",
    "    La - лямбда away\n",
    "    size - размер квадратной матрицы\n",
    "    \"\"\"\n",
    "    m = np.zeros((size, size))\n",
    "    for h_corner in range(size):\n",
    "        for a_corner in range(size):\n",
    "            # условная вероятность - унможаем вероятность события home на вер-ть события away\n",
    "            m[a_corner][h_corner] = calc_poisson(Lh, h_corner)*calc_poisson(La, a_corner)\n",
    "    return m"
   ]
  },
  {
   "cell_type": "code",
   "execution_count": 4,
   "metadata": {},
   "outputs": [
    {
     "data": {
      "text/plain": [
       "array([[0.00091188, 0.00273565, 0.00410347, 0.00410347, 0.0030776 ],\n",
       "       [0.00364753, 0.01094258, 0.01641388, 0.01641388, 0.01231041],\n",
       "       [0.00729506, 0.02188517, 0.03282775, 0.03282775, 0.02462081],\n",
       "       [0.00972674, 0.02918022, 0.04377033, 0.04377033, 0.03282775],\n",
       "       [0.00972674, 0.02918022, 0.04377033, 0.04377033, 0.03282775]])"
      ]
     },
     "execution_count": 4,
     "metadata": {},
     "output_type": "execute_result"
    }
   ],
   "source": [
    "# пример работы функции - создание матрицы вероятностей, что команды пробьют от 0 до 4 угловых\n",
    "# по строкам - для away, по столбцам - для home\n",
    "p_matrix = create_poisson_matrix(Lh = 3, La = 4, size = 5)\n",
    "p_matrix"
   ]
  },
  {
   "cell_type": "code",
   "execution_count": 5,
   "metadata": {},
   "outputs": [],
   "source": [
    "def create_prob_dict(p_matrix, mode='Home'):\n",
    "    \"\"\"\n",
    "    Функция - считает суммарные вероятности <=N событий для Home (столбцы) или Away (строки),\n",
    "    Заносит их в словарь линии от 0.5 до 8.5\n",
    "    p_matrix - посчитанная матрица вероятностей\n",
    "    mode - по какому направлению суммируем, 'Home' - столбцы, 'Away' - строки\n",
    "    \"\"\"\n",
    "    # считаем сумму, получаем массив размера size матрицы\n",
    "    if mode == 'Home':\n",
    "        col_sum = np.sum(p_matrix, axis=0)\n",
    "    elif mode == 'Away':\n",
    "        col_sum = np.sum(p_matrix, axis=1)\n",
    "    # т.к. у нас under probability, по полученному массиму считаем кумулятивную сумму\n",
    "    col_sum = np.cumsum(col_sum)\n",
    "    \n",
    "    # формируем словарь с under probability\n",
    "    p_dict = {}\n",
    "    i = 0\n",
    "    for i in range(9):\n",
    "        p_dict[i+0.5] = round(col_sum[i],3)\n",
    "    return p_dict"
   ]
  },
  {
   "cell_type": "code",
   "execution_count": 6,
   "metadata": {},
   "outputs": [
    {
     "data": {
      "text/plain": [
       "{0.5: 0.049,\n",
       " 1.5: 0.198,\n",
       " 2.5: 0.42,\n",
       " 3.5: 0.642,\n",
       " 4.5: 0.809,\n",
       " 5.5: 0.909,\n",
       " 6.5: 0.959,\n",
       " 7.5: 0.98,\n",
       " 8.5: 0.988}"
      ]
     },
     "execution_count": 6,
     "metadata": {},
     "output_type": "execute_result"
    }
   ],
   "source": [
    "# пример работы функции \n",
    "p_matrix = create_poisson_matrix(Lh = 3, La = 4, size = 10)\n",
    "create_prob_dict(p_matrix, mode='Home')"
   ]
  },
  {
   "cell_type": "code",
   "execution_count": 7,
   "metadata": {},
   "outputs": [],
   "source": [
    "def find_lh(H, BandH, U, Mrg):\n",
    "    \"\"\"\n",
    "    Функция подибрает Lh из заданных вариантов\n",
    "    H - текущее кол-во угловых Home\n",
    "    BandH - band market for home\n",
    "    Mrg - margin of the band market for home\n",
    "    U - Under price corresponding to the smallest band price for home\n",
    "    \"\"\"\n",
    "    # рассчитываем стартовые параметры\n",
    "    Line = BandH - H + 0.5\n",
    "    K = round(1/(Mrg*U), 3)\n",
    "    Delta = Line\n",
    "    Lh = BandH - H\n",
    "    \n",
    "    \n",
    "    for j in range(1,201): # j - параметр для подбора Lh\n",
    "        # предполагаем, что La = 0, строим матрицу и считаем суммарные вер-ти \n",
    "        p_matrix = create_poisson_matrix(Lh, 0, 21)\n",
    "        p_dict = create_prob_dict(p_matrix, mode='Home')\n",
    "        \n",
    "        # надо подобрать такую Lh, чтобы суммарная вероятность в линии = K\n",
    "        # если такой Lh не находится - мы меняем Lh на Delta/j и повторяем процесс заново \n",
    "        # (расчет матрицы для нового Lh, суммарные вероятности, проверка на равенство K )\n",
    "        for key in p_dict:\n",
    "            if key == Line:\n",
    "                if p_dict[key] == K:\n",
    "                    return Lh\n",
    "                elif p_dict[key] < K:\n",
    "                    Lh = Lh - Delta/j\n",
    "                    if Lh < 0:\n",
    "                        Lh = 0\n",
    "                elif p_dict[key] > K:\n",
    "                    Lh = Lh + Delta/j\n",
    "    return Lh"
   ]
  },
  {
   "cell_type": "code",
   "execution_count": 8,
   "metadata": {},
   "outputs": [],
   "source": [
    "def find_la(Lh, A, BandA, U, Mrg):\n",
    "    \"\"\"\n",
    "    Функция подибрает La при уже подобранной Lh\n",
    "    A - текущее кол-во угловых Away\n",
    "    BandA - band market for away\n",
    "    Mrg - margin of the band market for away\n",
    "    U - Under price corresponding to the smallest band price for Away\n",
    "    \"\"\"\n",
    "    # рассчитываем стартовые параметры\n",
    "    Line = BandA - A + 0.5\n",
    "    K = round(1/(Mrg*U),3)\n",
    "    Delta = Line\n",
    "    La = BandA - A\n",
    "    \n",
    "    for j in range(1,201): # j - параметр для подбора La\n",
    "        # используем рассчитанную Lh, строим матрицу и считаем суммарные вер-ти \n",
    "        p_matrix = create_poisson_matrix(Lh, La, 21)\n",
    "        p_dict = create_prob_dict(p_matrix, 'Away')\n",
    "        for key in p_dict:\n",
    "            if key == Line:\n",
    "                if p_dict[key] == K:\n",
    "                    return La\n",
    "                elif p_dict[key] < K:\n",
    "                    La = La - Delta/j\n",
    "                    if La < 0:\n",
    "                        La = 0\n",
    "                elif p_dict[key] > K:\n",
    "                    La = La + Delta/j\n",
    "    return La"
   ]
  },
  {
   "cell_type": "code",
   "execution_count": 9,
   "metadata": {},
   "outputs": [
    {
     "name": "stdout",
     "output_type": "stream",
     "text": [
      "Lh: 3.6738597010257044\n",
      "La: 4.672990192154367\n"
     ]
    }
   ],
   "source": [
    "# тест 1 - сходится с Excel до 0.01\n",
    "Lh = find_lh(H=0, BandH=3, U=2, Mrg=1)\n",
    "La = find_la(Lh, A=0, BandA=4, U=2 , Mrg=1)\n",
    "print ('Lh: {}\\nLa: {}'.format(Lh, La))"
   ]
  },
  {
   "cell_type": "code",
   "execution_count": 10,
   "metadata": {},
   "outputs": [
    {
     "name": "stdout",
     "output_type": "stream",
     "text": [
      "Lh: 1.7394058147734621\n",
      "La: 2.750126032721097\n"
     ]
    }
   ],
   "source": [
    "# тест 2 - сходится с Excel до 0.01\n",
    "Lh = find_lh(H=1, BandH=2, U=2, Mrg=1.04)\n",
    "La = find_la(Lh, A=0, BandA=2, U=2 , Mrg=1.04)\n",
    "print ('Lh: {}\\nLa: {}'.format(Lh, La))"
   ]
  },
  {
   "cell_type": "code",
   "execution_count": null,
   "metadata": {},
   "outputs": [],
   "source": []
  }
 ],
 "metadata": {
  "kernelspec": {
   "display_name": "Python 3",
   "language": "python",
   "name": "python3"
  },
  "language_info": {
   "codemirror_mode": {
    "name": "ipython",
    "version": 3
   },
   "file_extension": ".py",
   "mimetype": "text/x-python",
   "name": "python",
   "nbconvert_exporter": "python",
   "pygments_lexer": "ipython3",
   "version": "3.8.3"
  }
 },
 "nbformat": 4,
 "nbformat_minor": 4
}
