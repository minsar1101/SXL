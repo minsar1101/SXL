{
 "cells": [
  {
   "cell_type": "code",
   "execution_count": 21,
   "metadata": {},
   "outputs": [],
   "source": [
    "import pandas as pd\n",
    "import numpy as np\n",
    "import math as m"
   ]
  },
  {
   "cell_type": "code",
   "execution_count": 22,
   "metadata": {},
   "outputs": [],
   "source": [
    "def calc_poisson(Lambda, n_corners):\n",
    "    \"\"\"\n",
    "    Функция, считающая значения пуассоновского распределения\n",
    "    для заданной лямбды и кол-ва событий (угловых).\n",
    "    \"\"\"\n",
    "    return (Lambda**n_corners / m.factorial(n_corners)) * m.exp(-Lambda)"
   ]
  },
  {
   "cell_type": "code",
   "execution_count": 23,
   "metadata": {},
   "outputs": [],
   "source": [
    "def create_poisson_matrix(Lh, La, size):\n",
    "    \"\"\"\n",
    "    Функция, заполняющая матрицу пуассоновского распределения \n",
    "    при условии наступления i событий у Away и j событий у Home.\n",
    "    Использую версию функции из BR_bands без H и A\n",
    "    Lh - лямбда home\n",
    "    La - лямбда away\n",
    "    size - размер квадратной матрицы\n",
    "    \"\"\"\n",
    "    m = np.zeros((size, size))\n",
    "    for h_corner in range(size):\n",
    "        for a_corner in range(size):\n",
    "            # условная вероятность - унможаем вероятность события home на вер-ть события away\n",
    "            m[a_corner][h_corner] = calc_poisson(Lh, h_corner)*calc_poisson(La, a_corner)\n",
    "    return m"
   ]
  },
  {
   "cell_type": "code",
   "execution_count": 24,
   "metadata": {},
   "outputs": [],
   "source": [
    "def create_prob_dict(p_matrix, mode='Home'):\n",
    "    \"\"\"\n",
    "    Функция - считает суммарные вероятности <=N событий для Home (столбцы) или Away (строки),\n",
    "    Заносит их в словарь линии от 0.5 до 8.5\n",
    "    p_matrix - посчитанная матрица вероятностей\n",
    "    mode - по какому направлению суммируем, 'Home' - столбцы, 'Away' - строки\n",
    "    \"\"\"\n",
    "    # считаем сумму, получаем массив размера size матрицы\n",
    "    if mode == 'Home':\n",
    "        col_sum = np.sum(p_matrix, axis=0)\n",
    "    elif mode == 'Away':\n",
    "        col_sum = np.sum(p_matrix, axis=1)\n",
    "    # т.к. у нас under probability, по полученному массиму считаем кумулятивную сумму\n",
    "    col_sum = np.cumsum(col_sum)\n",
    "    \n",
    "    # формируем словарь с under probability\n",
    "    p_dict = {}\n",
    "    i = 0\n",
    "    for i in range(9):\n",
    "        p_dict[i+0.5] = round(col_sum[i],3)\n",
    "    return p_dict"
   ]
  },
  {
   "cell_type": "code",
   "execution_count": 25,
   "metadata": {},
   "outputs": [
    {
     "data": {
      "text/plain": [
       "{0.5: 0.05,\n",
       " 1.5: 0.199,\n",
       " 2.5: 0.423,\n",
       " 3.5: 0.647,\n",
       " 4.5: 0.815,\n",
       " 5.5: 0.916,\n",
       " 6.5: 0.966,\n",
       " 7.5: 0.988,\n",
       " 8.5: 0.996}"
      ]
     },
     "execution_count": 25,
     "metadata": {},
     "output_type": "execute_result"
    }
   ],
   "source": [
    "# пример работы функции \n",
    "p_matrix = create_poisson_matrix(Lh = 3, La = 4, size = 20)\n",
    "create_prob_dict(p_matrix, mode='Home')"
   ]
  },
  {
   "cell_type": "code",
   "execution_count": 36,
   "metadata": {},
   "outputs": [],
   "source": [
    "def find_lh(H=0, Line_h=3.5, Line_a=3.5, U_h=1.85, O_h=1.85):\n",
    "    \"\"\"\n",
    "    Функция подибрает Lh из заданных вариантов\n",
    "    H - текущее кол-во угловых Home\n",
    "    Line_h - линия home\n",
    "    U_h - коэффициент under home\n",
    "    O_h - коэффициент over home\n",
    "    значения по умолчанию равны значениям по умолчанию в excel - для простоты тестирования\n",
    "    \"\"\"\n",
    "    # рассчитываем стартовые параметры\n",
    "    k_h = round(1 / (U_h * (1/U_h + 1/O_h)),3) # under probability home\n",
    "\n",
    "    Lh = Line_h # первая прикидка Lh для расчета\n",
    "    La = Line_a # первая прикидка La для расчета\n",
    "\n",
    "    Line_h = Line_h - H  # Сергей - наверное, надо как-то обрабатывать случаи, когда Line_h < H ? \n",
    "    Delta = Line_h\n",
    "    \n",
    "    for j in range(1,201): # j - параметр для подбора Lh\n",
    "        # предполагаем, что La = 0, строим матрицу и считаем суммарные вер-ти \n",
    "        p_matrix = create_poisson_matrix(Lh, La, 21)\n",
    "        p_dict = create_prob_dict(p_matrix, mode='Home')\n",
    "        \n",
    "        # надо подобрать такую Lh, чтобы суммарная вероятность в линии = k_h\n",
    "        # если такой Lh не находится - мы меняем Lh на Delta/j и повторяем процесс заново \n",
    "        # (расчет матрицы для нового Lh, суммарные вероятности, проверка на равенство k_h )\n",
    "        for key in p_dict:\n",
    "            if key == Line_h:\n",
    "                if p_dict[key] == k_h:\n",
    "                    return Lh\n",
    "                elif p_dict[key] < k_h:\n",
    "                    Lh = Lh - Delta/j\n",
    "                elif p_dict[key] > k_h:\n",
    "                    Lh = Lh + Delta/j\n",
    "    return Lh"
   ]
  },
  {
   "cell_type": "code",
   "execution_count": 38,
   "metadata": {},
   "outputs": [],
   "source": [
    "def find_la(Lh, A=0, Line_a=3.5, U_a=1.85, O_a=1.85):\n",
    "    \"\"\"\n",
    "    Функция подибрает La из заданных вариантов\n",
    "    Lh - подобранный Lh из find_lh \n",
    "    A - текущее кол-во угловых Away\n",
    "    Line_a - линия home\n",
    "    U_a - коэффициент under home\n",
    "    O_a - коэффициент over home\n",
    "    значения по умолчанию равны значениям по умолчанию в excel - для простоты тестирования\n",
    "    \"\"\"\n",
    "    # рассчитываем стартовые параметры\n",
    "    k_a = round(1 / (U_a * (1/U_a + 1/O_a)),3) # under probability away\n",
    "\n",
    "    La = Line_a # первая прикидка La для расчета\n",
    "    Line_a = Line_a - A  # Сергей - наверное, надо как-то обрабатывать случаи, когда Line_a < A ? \n",
    "    Delta = Line_a\n",
    "    \n",
    "    for j in range(1,201): # j - параметр для подбора La\n",
    "        # предполагаем, что La = 0, строим матрицу и считаем суммарные вер-ти \n",
    "        p_matrix = create_poisson_matrix(Lh, La, 21)\n",
    "        p_dict = create_prob_dict(p_matrix, mode='Away')\n",
    "        \n",
    "        # надо подобрать такую La, чтобы суммарная вероятность в линии = k_a\n",
    "        # если такой La не находится - мы меняем La на Delta/j и повторяем процесс заново \n",
    "        # (расчет матрицы для нового La, суммарные вероятности, проверка на равенство k_a )\n",
    "        for key in p_dict:\n",
    "            if key == Line_a:\n",
    "                if p_dict[key] == k_a:\n",
    "                    return La\n",
    "                elif p_dict[key] < k_a:\n",
    "                    La = La - Delta/j\n",
    "                elif p_dict[key] > k_a:\n",
    "                    La = La + Delta/j\n",
    "    return La"
   ]
  },
  {
   "cell_type": "code",
   "execution_count": 40,
   "metadata": {},
   "outputs": [
    {
     "name": "stdout",
     "output_type": "stream",
     "text": [
      "3.674033244447331 \n",
      " 3.674033244447331\n"
     ]
    }
   ],
   "source": [
    "# Тест 1\n",
    "Lh = find_lh(H=1, )\n",
    "La = find_la(Lh)\n",
    "print(Lh,'\\n',La)"
   ]
  },
  {
   "cell_type": "code",
   "execution_count": 41,
   "metadata": {},
   "outputs": [
    {
     "name": "stdout",
     "output_type": "stream",
     "text": [
      "3.6719907607872 \n",
      " 4.673371315628099\n"
     ]
    }
   ],
   "source": [
    "# Тест 2\n",
    "Lh = find_lh(H=1, Line_h=4.5, Line_a=4.5, U_h=2.5, O_h=2.5)\n",
    "La = find_la(Lh, A=0, Line_a=4.5, U_a=3.5, O_a=3.5)\n",
    "print(Lh,'\\n',La)"
   ]
  },
  {
   "cell_type": "code",
   "execution_count": null,
   "metadata": {},
   "outputs": [],
   "source": []
  }
 ],
 "metadata": {
  "kernelspec": {
   "display_name": "Python 3",
   "language": "python",
   "name": "python3"
  },
  "language_info": {
   "codemirror_mode": {
    "name": "ipython",
    "version": 3
   },
   "file_extension": ".py",
   "mimetype": "text/x-python",
   "name": "python",
   "nbconvert_exporter": "python",
   "pygments_lexer": "ipython3",
   "version": "3.8.3"
  }
 },
 "nbformat": 4,
 "nbformat_minor": 4
}
