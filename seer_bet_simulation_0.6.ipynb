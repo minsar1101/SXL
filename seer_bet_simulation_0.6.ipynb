{
 "cells": [
  {
   "cell_type": "code",
   "execution_count": 1,
   "metadata": {},
   "outputs": [],
   "source": [
    "import pandas as pd\n",
    "import scipy\n",
    "import numpy as np\n",
    "import seaborn as sns\n",
    "import matplotlib.pyplot as plt\n",
    "%matplotlib inline\n",
    "np.set_printoptions(suppress=True)"
   ]
  },
  {
   "cell_type": "code",
   "execution_count": 2,
   "metadata": {},
   "outputs": [],
   "source": [
    "def sim_bets(real_bets, simulation_num):\n",
    "    \"\"\"\n",
    "    функция создает матрицу с симуляцией исходов, содержащую числа от 0 до 1,\n",
    "    где кол-во строк = кол-ву результатов в real_bets а кол-во столбцов = кол-ву симуляций\n",
    "    real_bets - матрица с реальной историей ставок\n",
    "    simulation_num - кол-во симуляций\n",
    "    \"\"\"    \n",
    "    sim_bets = np.random.rand(simulation_num, real_bets.shape[0])\n",
    "    \n",
    "    # вместо исходов запишем его результат\n",
    "    for j in range(real_bets.shape[0]):\n",
    "        for i in range(sim_bets.shape[0]):\n",
    "            # если в симуляции ставка проиграла - записывает -amount данной ставки\n",
    "            if sim_bets[i][j] >= real_bets[j][1]:\n",
    "                sim_bets[i][j] = -real_bets[j][0]\n",
    "            # если в симуляции ставка выиграла, запишем маржу игрока    \n",
    "            else:\n",
    "                sim_bets[i][j] = (1/real_bets[j][1] - 1)*(real_bets[j][0])\n",
    "                \n",
    "    # по каждой симуляции считаем profit, получаем список размером = кол-ву симуляций\n",
    "    sim_profit_list = sim_bets.sum(axis=1)\n",
    "    \n",
    "    return sim_profit_list"
   ]
  },
  {
   "cell_type": "code",
   "execution_count": 3,
   "metadata": {},
   "outputs": [],
   "source": [
    "def get_margin_prob(real_margin, sim_profit_list):\n",
    "    \"\"\" \n",
    "    Функция считает вероятность, что маржинальность на графике окажется >= заданной\n",
    "    и рисует график\n",
    "    \"\"\"\n",
    "    # получаем координаты KDE line\n",
    "    ax = sns.distplot(sim_profit_list)\n",
    "    xdata, ydata = ax.get_lines()[0].get_data()\n",
    "\n",
    "    # Ищем ближайшую точку на графике\n",
    "    idx = (np.abs(xdata-real_margin)).argmin()\n",
    "    # Интерполяция для лучшей оценки\n",
    "    p = np.interp(real_margin,xdata[idx:idx+2],ydata[idx:idx+2])\n",
    "    #print('Point on PDF for X = {} is: {}'.format(real_margin,p))\n",
    "\n",
    "    #Ищем вероятность мужду заданной маржинальностью и максимумом\n",
    "    ecart = max(sim_profit_list)-real_margin\n",
    "    idx = (np.abs(xdata-real_margin)).argmin()\n",
    "    idx_ = (np.abs(xdata-(real_margin+ecart))).argmin()\n",
    "\n",
    "    cdf = scipy.integrate.cumtrapz(ydata, xdata, dx=1, initial=0)\n",
    "    pr = cdf[idx_] - cdf[idx]  \n",
    "    #print('\\nProbability of margin >={:.2f} is {:.2f}% after {} simulations'.format(real_margin,pr*100,len(sim_profit_list)))\n",
    "\n",
    "    ax.fill_between(xdata, ydata, where=(xdata >= real_margin) , \n",
    "                    interpolate=True, color='#EF9A9A')\n",
    "\n",
    "    return ax"
   ]
  },
  {
   "cell_type": "code",
   "execution_count": 4,
   "metadata": {},
   "outputs": [
    {
     "data": {
      "text/html": [
       "<div>\n",
       "<style scoped>\n",
       "    .dataframe tbody tr th:only-of-type {\n",
       "        vertical-align: middle;\n",
       "    }\n",
       "\n",
       "    .dataframe tbody tr th {\n",
       "        vertical-align: top;\n",
       "    }\n",
       "\n",
       "    .dataframe thead th {\n",
       "        text-align: right;\n",
       "    }\n",
       "</style>\n",
       "<table border=\"1\" class=\"dataframe\">\n",
       "  <thead>\n",
       "    <tr style=\"text-align: right;\">\n",
       "      <th></th>\n",
       "      <th>event_name</th>\n",
       "      <th>outcome</th>\n",
       "      <th>status</th>\n",
       "      <th>id</th>\n",
       "      <th>rate</th>\n",
       "      <th>amount</th>\n",
       "      <th>payoff</th>\n",
       "      <th>result</th>\n",
       "      <th>bet_date</th>\n",
       "      <th>bet_hour</th>\n",
       "      <th>created_at</th>\n",
       "      <th>sport_name</th>\n",
       "      <th>user_id</th>\n",
       "      <th>market_name</th>\n",
       "      <th>live</th>\n",
       "      <th>p_win</th>\n",
       "      <th>profit</th>\n",
       "    </tr>\n",
       "  </thead>\n",
       "  <tbody>\n",
       "    <tr>\n",
       "      <th>0</th>\n",
       "      <td>Сычуань v Шэньчжэнь Авиаторс</td>\n",
       "      <td>Больше 81.5</td>\n",
       "      <td>NaN</td>\n",
       "      <td>361802301</td>\n",
       "      <td>1.90</td>\n",
       "      <td>5000</td>\n",
       "      <td>0</td>\n",
       "      <td>Loss</td>\n",
       "      <td>01.07.2020</td>\n",
       "      <td>7</td>\n",
       "      <td>01.07.2020 7:47</td>\n",
       "      <td>Basketball</td>\n",
       "      <td>405472</td>\n",
       "      <td>Basketball</td>\n",
       "      <td>PM</td>\n",
       "      <td>0.526316</td>\n",
       "      <td>-5000</td>\n",
       "    </tr>\n",
       "    <tr>\n",
       "      <th>1</th>\n",
       "      <td>Сычуань v Шэньчжэнь Авиаторс</td>\n",
       "      <td>Больше 46.5</td>\n",
       "      <td>NaN</td>\n",
       "      <td>361804998</td>\n",
       "      <td>1.85</td>\n",
       "      <td>5000</td>\n",
       "      <td>9250</td>\n",
       "      <td>Win</td>\n",
       "      <td>01.07.2020</td>\n",
       "      <td>7</td>\n",
       "      <td>2020-07-01 07:59</td>\n",
       "      <td>Basketball</td>\n",
       "      <td>405472</td>\n",
       "      <td>Basketball</td>\n",
       "      <td>PM</td>\n",
       "      <td>0.540541</td>\n",
       "      <td>4250</td>\n",
       "    </tr>\n",
       "    <tr>\n",
       "      <th>2</th>\n",
       "      <td>Таранаки v Отаго Наггетс</td>\n",
       "      <td>Меньше 50.5</td>\n",
       "      <td>NaN</td>\n",
       "      <td>361816536</td>\n",
       "      <td>1.85</td>\n",
       "      <td>3250</td>\n",
       "      <td>6013</td>\n",
       "      <td>Win</td>\n",
       "      <td>01.07.2020</td>\n",
       "      <td>8</td>\n",
       "      <td>2020-07-01 08:41</td>\n",
       "      <td>Basketball</td>\n",
       "      <td>405472</td>\n",
       "      <td>Basketball</td>\n",
       "      <td>PM</td>\n",
       "      <td>0.540541</td>\n",
       "      <td>2763</td>\n",
       "    </tr>\n",
       "    <tr>\n",
       "      <th>3</th>\n",
       "      <td>Таранаки v Отаго Наггетс</td>\n",
       "      <td>Меньше 87.5</td>\n",
       "      <td>NaN</td>\n",
       "      <td>361825541</td>\n",
       "      <td>1.85</td>\n",
       "      <td>2480</td>\n",
       "      <td>4588</td>\n",
       "      <td>Win</td>\n",
       "      <td>01.07.2020</td>\n",
       "      <td>9</td>\n",
       "      <td>2020-07-01 09:08</td>\n",
       "      <td>Basketball</td>\n",
       "      <td>405472</td>\n",
       "      <td>Basketball</td>\n",
       "      <td>PM</td>\n",
       "      <td>0.540541</td>\n",
       "      <td>2108</td>\n",
       "    </tr>\n",
       "    <tr>\n",
       "      <th>4</th>\n",
       "      <td>Шанхай Шаркс v Синьцзян Флаинг Тайгерс</td>\n",
       "      <td>Больше 45.5</td>\n",
       "      <td>NaN</td>\n",
       "      <td>361857380</td>\n",
       "      <td>1.76</td>\n",
       "      <td>2000</td>\n",
       "      <td>0</td>\n",
       "      <td>Loss</td>\n",
       "      <td>01.07.2020</td>\n",
       "      <td>10</td>\n",
       "      <td>2020-07-01 10:36</td>\n",
       "      <td>Basketball</td>\n",
       "      <td>405472</td>\n",
       "      <td>Basketball</td>\n",
       "      <td>PM</td>\n",
       "      <td>0.568182</td>\n",
       "      <td>-2000</td>\n",
       "    </tr>\n",
       "  </tbody>\n",
       "</table>\n",
       "</div>"
      ],
      "text/plain": [
       "                               event_name      outcome  status         id  \\\n",
       "0            Сычуань v Шэньчжэнь Авиаторс  Больше 81.5     NaN  361802301   \n",
       "1            Сычуань v Шэньчжэнь Авиаторс  Больше 46.5     NaN  361804998   \n",
       "2                Таранаки v Отаго Наггетс  Меньше 50.5     NaN  361816536   \n",
       "3                Таранаки v Отаго Наггетс  Меньше 87.5     NaN  361825541   \n",
       "4  Шанхай Шаркс v Синьцзян Флаинг Тайгерс  Больше 45.5     NaN  361857380   \n",
       "\n",
       "   rate  amount  payoff result    bet_date  bet_hour        created_at  \\\n",
       "0  1.90    5000       0   Loss  01.07.2020         7   01.07.2020 7:47   \n",
       "1  1.85    5000    9250    Win  01.07.2020         7  2020-07-01 07:59   \n",
       "2  1.85    3250    6013    Win  01.07.2020         8  2020-07-01 08:41   \n",
       "3  1.85    2480    4588    Win  01.07.2020         9  2020-07-01 09:08   \n",
       "4  1.76    2000       0   Loss  01.07.2020        10  2020-07-01 10:36   \n",
       "\n",
       "   sport_name  user_id market_name live     p_win  profit  \n",
       "0  Basketball   405472  Basketball   PM  0.526316   -5000  \n",
       "1  Basketball   405472  Basketball   PM  0.540541    4250  \n",
       "2  Basketball   405472  Basketball   PM  0.540541    2763  \n",
       "3  Basketball   405472  Basketball   PM  0.540541    2108  \n",
       "4  Basketball   405472  Basketball   PM  0.568182   -2000  "
      ]
     },
     "execution_count": 4,
     "metadata": {},
     "output_type": "execute_result"
    }
   ],
   "source": [
    "# читаем тестовые данные и формируем нужные столбцы\n",
    "\n",
    "#тестовые данные дэвида\n",
    "df = pd.read_csv('seer_david_example.txt', sep='\\t')\n",
    "\n",
    "# подготовка нужных столбцов\n",
    "df['p_win'] = 1/df['rate']\n",
    "df['profit'] = df['payoff']-df['amount']\n",
    "df.head()"
   ]
  },
  {
   "cell_type": "code",
   "execution_count": 5,
   "metadata": {},
   "outputs": [
    {
     "name": "stdout",
     "output_type": "stream",
     "text": [
      "Ставок у пользователя 39\n"
     ]
    }
   ],
   "source": [
    "# на самом деле нужно 3 столбца\n",
    "# amount - сумма ставки\n",
    "# p_win - вероятностность события\n",
    "# profit - маржа игрока по отдельной ставке (-amount в случае проигрыша, payoff-amount в случае выигрыша)\n",
    "\n",
    "# формируем массив из этих данных\n",
    "real_bets = df[['amount','p_win','profit']].to_numpy()\n",
    "\n",
    "print('Ставок у пользователя {}'.format(len(real_bets)))"
   ]
  },
  {
   "cell_type": "code",
   "execution_count": 6,
   "metadata": {},
   "outputs": [
    {
     "name": "stdout",
     "output_type": "stream",
     "text": [
      "Игрок сделал 39 ставок, маржа 7698.00(8.21%)\n",
      "Вероятность такой или большей маржи = 31.15% после 10000 симуляций\n",
      "\n",
      "Время расчета:\n",
      "Wall time: 622 ms\n"
     ]
    }
   ],
   "source": [
    "%%time\n",
    "# считаем profit игрока на реальных ставках\n",
    "real_profit = real_bets.sum(axis=0)[2]\n",
    "real_profit_prcnt = real_profit/real_bets.sum(axis=0)[0] \n",
    "\n",
    "# делаем симуляцию, возвращаем массив с профитами\n",
    "simulation_num = 10000\n",
    "sim_profit_list = sim_bets(real_bets, simulation_num)\n",
    "\n",
    "# считаем кол-во симуляций, где profit получился больше реального\n",
    "chance_outcomes = sum(i > real_profit for i in sim_profit_list)\n",
    "chance_percent = chance_outcomes / simulation_num\n",
    "    \n",
    "# считаем кол-во сумуляций, где profit получился ниже реального\n",
    "skill_outcomes = len(sim_profit_list) - chance_outcomes\n",
    "skill_percent = skill_outcomes / simulation_num\n",
    "\n",
    "print('Игрок сделал {} ставок, маржа {:.2f}({:.2f}%)'.format(len(real_bets), real_profit, \n",
    "                                                   real_profit_prcnt*100))\n",
    "print('Вероятность такой или большей маржи = {:.2f}% после {} симуляций'.\n",
    "      format(chance_percent*100, simulation_num))\n",
    "print('\\nВремя расчета:')"
   ]
  },
  {
   "cell_type": "code",
   "execution_count": 7,
   "metadata": {},
   "outputs": [
    {
     "name": "stderr",
     "output_type": "stream",
     "text": [
      "C:\\Users\\Insar\\Anaconda3\\lib\\site-packages\\seaborn\\distributions.py:2551: FutureWarning: `distplot` is a deprecated function and will be removed in a future version. Please adapt your code to use either `displot` (a figure-level function with similar flexibility) or `histplot` (an axes-level function for histograms).\n",
      "  warnings.warn(msg, FutureWarning)\n"
     ]
    },
    {
     "data": {
      "text/plain": [
       "<AxesSubplot:ylabel='Density'>"
      ]
     },
     "execution_count": 7,
     "metadata": {},
     "output_type": "execute_result"
    },
    {
     "data": {
      "image/png": "[encoded data removed]",
      "text/plain": [
       "<Figure size 432x288 with 1 Axes>"
      ]
     },
     "metadata": {
      "needs_background": "light"
     },
     "output_type": "display_data"
    }
   ],
   "source": [
    "# нарисуем\n",
    "get_margin_prob(real_profit, sim_profit_list)"
   ]
  }
 ],
 "metadata": {
  "kernelspec": {
   "display_name": "Python 3",
   "language": "python",
   "name": "python3"
  },
  "language_info": {
   "codemirror_mode": {
    "name": "ipython",
    "version": 3
   },
   "file_extension": ".py",
   "mimetype": "text/x-python",
   "name": "python",
   "nbconvert_exporter": "python",
   "pygments_lexer": "ipython3",
   "version": "3.7.6"
  }
 },
 "nbformat": 4,
 "nbformat_minor": 4
}
